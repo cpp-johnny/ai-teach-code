{
  "nbformat": 4,
  "nbformat_minor": 0,
  "metadata": {
    "colab": {
      "provenance": []
    },
    "kernelspec": {
      "name": "python3",
      "display_name": "Python 3"
    },
    "language_info": {
      "name": "python"
    }
  },
  "cells": [
    {
      "cell_type": "markdown",
      "source": [
        "# Numpy Tutorial from ChatGPT (3.5)\n",
        "\n",
        "prompt: give a tutorial on Numpy"
      ],
      "metadata": {
        "id": "v-KFnJH-Nht8"
      }
    },
    {
      "cell_type": "markdown",
      "source": [
        "## Introduction to NumPy\n",
        "\n",
        "NumPy (Numerical Python) is a library used for working with arrays, and it also provides functions for mathematical operations, random number generation, linear algebra, Fourier transforms, and more. It is the foundation for many other scientific computing libraries in Python, such as SciPy, Pandas, and Matplotlib.\n",
        "\n",
        "## Installation\n",
        "\n",
        "If you haven't already installed NumPy, you can do so using pip:"
      ],
      "metadata": {
        "id": "kiuTTyB6Nu1Z"
      }
    },
    {
      "cell_type": "code",
      "execution_count": 1,
      "metadata": {
        "colab": {
          "base_uri": "https://localhost:8080/"
        },
        "id": "byUpjVI2NeS1",
        "outputId": "0acc016f-32c2-4e2c-aae8-2af5c971f8b3"
      },
      "outputs": [
        {
          "output_type": "stream",
          "name": "stdout",
          "text": [
            "Requirement already satisfied: numpy in /usr/local/lib/python3.10/dist-packages (1.25.2)\n"
          ]
        }
      ],
      "source": [
        "pip install numpy"
      ]
    },
    {
      "cell_type": "markdown",
      "source": [
        "Importing NumPy\n",
        "\n",
        "To use NumPy, you need to import it. It's customary to import it under the alias `np`:"
      ],
      "metadata": {
        "id": "BkrvCu5JNx7j"
      }
    },
    {
      "cell_type": "code",
      "source": [
        "import numpy as np"
      ],
      "metadata": {
        "id": "Xl6iAwXUN8hT"
      },
      "execution_count": 2,
      "outputs": []
    },
    {
      "cell_type": "markdown",
      "source": [
        "## Creating Arrays\n",
        "\n",
        "1) From a list:"
      ],
      "metadata": {
        "id": "HKlZSONdOFxj"
      }
    },
    {
      "cell_type": "code",
      "source": [
        "a = np.array([1, 2, 3, 4, 5])\n",
        "print(a)"
      ],
      "metadata": {
        "colab": {
          "base_uri": "https://localhost:8080/"
        },
        "id": "pTBHqJRzOI4r",
        "outputId": "81a1554c-2283-4b74-ab7f-97bf791d07b0"
      },
      "execution_count": 3,
      "outputs": [
        {
          "output_type": "stream",
          "name": "stdout",
          "text": [
            "[1 2 3 4 5]\n"
          ]
        }
      ]
    },
    {
      "cell_type": "markdown",
      "source": [
        "2) From a list of lists (creating a 2D array):"
      ],
      "metadata": {
        "id": "6yzqmn5rOMqM"
      }
    },
    {
      "cell_type": "code",
      "source": [
        "b = np.array([[1, 2, 3], [4, 5, 6]])\n",
        "print(b)"
      ],
      "metadata": {
        "colab": {
          "base_uri": "https://localhost:8080/"
        },
        "id": "OXVCQtLoONS5",
        "outputId": "3ff3a0e4-9a26-4993-bfaf-c077f3c0a572"
      },
      "execution_count": 4,
      "outputs": [
        {
          "output_type": "stream",
          "name": "stdout",
          "text": [
            "[[1 2 3]\n",
            " [4 5 6]]\n"
          ]
        }
      ]
    },
    {
      "cell_type": "markdown",
      "source": [
        "3) Using built-in functions:\n",
        "\n",
        "(i) `arange`: Generates an array with a range of values."
      ],
      "metadata": {
        "id": "aftOE0GmOSSF"
      }
    },
    {
      "cell_type": "code",
      "source": [
        "c = np.arange(0, 10, 2)  # start, stop, step\n",
        "print(c)"
      ],
      "metadata": {
        "colab": {
          "base_uri": "https://localhost:8080/"
        },
        "id": "R3LrRExJOXl8",
        "outputId": "bf85514d-8984-4042-e140-49c9ce1f4564"
      },
      "execution_count": 8,
      "outputs": [
        {
          "output_type": "stream",
          "name": "stdout",
          "text": [
            "[0 2 4 6 8]\n"
          ]
        }
      ]
    },
    {
      "cell_type": "markdown",
      "source": [
        "(ii) `zeros`: Generates an array of zeros."
      ],
      "metadata": {
        "id": "2H1lTDYeOXHr"
      }
    },
    {
      "cell_type": "code",
      "source": [
        "d = np.zeros((2, 3))  # shape\n",
        "print(d)"
      ],
      "metadata": {
        "colab": {
          "base_uri": "https://localhost:8080/"
        },
        "id": "4Xwm0894Ox8G",
        "outputId": "afd167c0-cd17-47e5-b6c9-b52435824bf2"
      },
      "execution_count": 9,
      "outputs": [
        {
          "output_type": "stream",
          "name": "stdout",
          "text": [
            "[[0. 0. 0.]\n",
            " [0. 0. 0.]]\n"
          ]
        }
      ]
    },
    {
      "cell_type": "markdown",
      "source": [
        "(iii) `ones`: Generates an array of ones."
      ],
      "metadata": {
        "id": "2yCtRCmYO8IA"
      }
    },
    {
      "cell_type": "code",
      "source": [
        "e = np.ones((3, 4))\n",
        "print(e)"
      ],
      "metadata": {
        "colab": {
          "base_uri": "https://localhost:8080/"
        },
        "id": "vdHka0gPPDgz",
        "outputId": "b9bb7acb-976f-4ebb-bf87-dc798d566d16"
      },
      "execution_count": 10,
      "outputs": [
        {
          "output_type": "stream",
          "name": "stdout",
          "text": [
            "[[1. 1. 1. 1.]\n",
            " [1. 1. 1. 1.]\n",
            " [1. 1. 1. 1.]]\n"
          ]
        }
      ]
    },
    {
      "cell_type": "markdown",
      "source": [
        "(iv) `linspace`: Generates an array of evenly spaced values over a specified range."
      ],
      "metadata": {
        "id": "eXDy7z0YO-hA"
      }
    },
    {
      "cell_type": "code",
      "source": [
        "f = np.linspace(0, 1, 5)  # start, stop, number of points\n",
        "print(f)"
      ],
      "metadata": {
        "colab": {
          "base_uri": "https://localhost:8080/"
        },
        "id": "XyqAzvSYPGAg",
        "outputId": "f75ac299-81d4-4148-c5b5-0f6df3352273"
      },
      "execution_count": 11,
      "outputs": [
        {
          "output_type": "stream",
          "name": "stdout",
          "text": [
            "[0.   0.25 0.5  0.75 1.  ]\n"
          ]
        }
      ]
    },
    {
      "cell_type": "markdown",
      "source": [
        "## Basic Operations\n",
        "1. Element-wise operations:"
      ],
      "metadata": {
        "id": "f_hF-CG8PR7f"
      }
    },
    {
      "cell_type": "code",
      "source": [
        "g = np.array([1, 2, 3])\n",
        "h = np.array([4, 5, 6])\n",
        "\n",
        "# Addition\n",
        "print(g + h)\n",
        "\n",
        "# Subtraction\n",
        "print(g - h)\n",
        "\n",
        "# Multiplication\n",
        "print(g * h)\n",
        "\n",
        "# Division\n",
        "print(g / h)"
      ],
      "metadata": {
        "colab": {
          "base_uri": "https://localhost:8080/"
        },
        "id": "Q7F2V9s9PVG1",
        "outputId": "b61c5569-e84f-471e-92ad-9b12adbf8759"
      },
      "execution_count": 15,
      "outputs": [
        {
          "output_type": "stream",
          "name": "stdout",
          "text": [
            "[5 7 9]\n",
            "[-3 -3 -3]\n",
            "[ 4 10 18]\n",
            "[0.25 0.4  0.5 ]\n"
          ]
        }
      ]
    },
    {
      "cell_type": "markdown",
      "source": [
        "2. Matrix multiplication:"
      ],
      "metadata": {
        "id": "8RZTspLoPbEf"
      }
    },
    {
      "cell_type": "code",
      "source": [
        "i = np.array([[1, 2], [3, 4]])\n",
        "j = np.array([[5, 6], [7, 8]])\n",
        "\n",
        "# Matrix multiplication\n",
        "print(np.dot(i, j))"
      ],
      "metadata": {
        "colab": {
          "base_uri": "https://localhost:8080/"
        },
        "id": "Gf-D8cf0PY_A",
        "outputId": "b1a1ed82-09eb-48d7-92c0-4fedf9c6e0fb"
      },
      "execution_count": 13,
      "outputs": [
        {
          "output_type": "stream",
          "name": "stdout",
          "text": [
            "[[19 22]\n",
            " [43 50]]\n"
          ]
        }
      ]
    },
    {
      "cell_type": "markdown",
      "source": [
        "3. Universal functions (ufuncs):"
      ],
      "metadata": {
        "id": "1RvEeJmrPUrn"
      }
    },
    {
      "cell_type": "code",
      "source": [
        "# Square root\n",
        "print(np.sqrt(g))\n",
        "\n",
        "# Exponential\n",
        "print(np.exp(g))\n",
        "\n",
        "# Sine\n",
        "print(np.sin(g))"
      ],
      "metadata": {
        "colab": {
          "base_uri": "https://localhost:8080/"
        },
        "id": "gbPfYF0yPtgY",
        "outputId": "e04f07f7-ee94-47d5-bd1d-1c9242da1ebb"
      },
      "execution_count": 14,
      "outputs": [
        {
          "output_type": "stream",
          "name": "stdout",
          "text": [
            "[1.         1.41421356 1.73205081]\n",
            "[ 2.71828183  7.3890561  20.08553692]\n",
            "[0.84147098 0.90929743 0.14112001]\n"
          ]
        }
      ]
    },
    {
      "cell_type": "markdown",
      "source": [
        "## Array Manipulation\n",
        "1. Reshape:"
      ],
      "metadata": {
        "id": "vjaWZeYyP2Df"
      }
    },
    {
      "cell_type": "code",
      "source": [
        "k = np.arange(1, 13)\n",
        "print(k.reshape((3, 4)))"
      ],
      "metadata": {
        "colab": {
          "base_uri": "https://localhost:8080/"
        },
        "id": "N6F8jXAdP7FR",
        "outputId": "a66e437c-bb7a-42ee-dc71-0cc3e7d4e29c"
      },
      "execution_count": 16,
      "outputs": [
        {
          "output_type": "stream",
          "name": "stdout",
          "text": [
            "[[ 1  2  3  4]\n",
            " [ 5  6  7  8]\n",
            " [ 9 10 11 12]]\n"
          ]
        }
      ]
    },
    {
      "cell_type": "markdown",
      "source": [
        "2. Flatten"
      ],
      "metadata": {
        "id": "6QuP17O_P4Yg"
      }
    },
    {
      "cell_type": "code",
      "source": [
        "l = np.array([[1, 2, 3], [4, 5, 6]])\n",
        "print(l.flatten())"
      ],
      "metadata": {
        "colab": {
          "base_uri": "https://localhost:8080/"
        },
        "id": "OMl8UPybQAY4",
        "outputId": "aa6d2baf-5d08-4d66-a88b-5d4aec17938e"
      },
      "execution_count": 17,
      "outputs": [
        {
          "output_type": "stream",
          "name": "stdout",
          "text": [
            "[1 2 3 4 5 6]\n"
          ]
        }
      ]
    },
    {
      "cell_type": "markdown",
      "source": [
        "3. Transpose"
      ],
      "metadata": {
        "id": "g0GavmyMQE1e"
      }
    },
    {
      "cell_type": "code",
      "source": [
        "m = np.array([[1, 2], [3, 4], [5, 6]])\n",
        "print(m.T)"
      ],
      "metadata": {
        "colab": {
          "base_uri": "https://localhost:8080/"
        },
        "id": "KIM7La6mQDCq",
        "outputId": "a5258e69-cd44-4b3c-b007-dafef629709d"
      },
      "execution_count": 18,
      "outputs": [
        {
          "output_type": "stream",
          "name": "stdout",
          "text": [
            "[[1 3 5]\n",
            " [2 4 6]]\n"
          ]
        }
      ]
    },
    {
      "cell_type": "markdown",
      "source": [
        "## Indexing and Slicing\n",
        "\n",
        "1. Basic indexing:"
      ],
      "metadata": {
        "id": "bdnhRU6xQPQJ"
      }
    },
    {
      "cell_type": "code",
      "source": [
        "n = np.array([10, 20, 30, 40, 50])\n",
        "print(n[0])  # First element\n",
        "print(n[-1])  # Last element"
      ],
      "metadata": {
        "colab": {
          "base_uri": "https://localhost:8080/"
        },
        "id": "ICc9vHJSQRwH",
        "outputId": "429d4d06-29ca-46d7-f3c6-f2caf7e5ea79"
      },
      "execution_count": 19,
      "outputs": [
        {
          "output_type": "stream",
          "name": "stdout",
          "text": [
            "10\n",
            "50\n"
          ]
        }
      ]
    },
    {
      "cell_type": "markdown",
      "source": [
        "2. Slicing"
      ],
      "metadata": {
        "id": "QNeetLctQU6e"
      }
    },
    {
      "cell_type": "code",
      "source": [
        "o = np.array([10, 20, 30, 40, 50])\n",
        "print(o[1:4])  # Elements from index 1 to 3\n",
        "print(o[:3])  # First three elements\n",
        "print(o[::2])  # Every second element"
      ],
      "metadata": {
        "colab": {
          "base_uri": "https://localhost:8080/"
        },
        "id": "nijuKHzYQWby",
        "outputId": "6a01a545-8de1-4da9-ba75-53e3bec7d6c5"
      },
      "execution_count": 20,
      "outputs": [
        {
          "output_type": "stream",
          "name": "stdout",
          "text": [
            "[20 30 40]\n",
            "[10 20 30]\n",
            "[10 30 50]\n"
          ]
        }
      ]
    },
    {
      "cell_type": "markdown",
      "source": [
        "3. Boolean Indexing"
      ],
      "metadata": {
        "id": "j9CRDYmxQYTh"
      }
    },
    {
      "cell_type": "code",
      "source": [
        "p = np.array([1, 2, 3, 4, 5])\n",
        "print(p[p > 2])  # Elements greater than 2"
      ],
      "metadata": {
        "colab": {
          "base_uri": "https://localhost:8080/"
        },
        "id": "pCe_tVB8Qaw2",
        "outputId": "dde932d2-17f3-4f8b-bd59-cc4b4fa9fd17"
      },
      "execution_count": 21,
      "outputs": [
        {
          "output_type": "stream",
          "name": "stdout",
          "text": [
            "[3 4 5]\n"
          ]
        }
      ]
    },
    {
      "cell_type": "markdown",
      "source": [
        "## Statistical Operations"
      ],
      "metadata": {
        "id": "3uSJM5FPQeMe"
      }
    },
    {
      "cell_type": "code",
      "source": [
        "q = np.array([[1, 2, 3], [4, 5, 6]])\n",
        "\n",
        "# Sum\n",
        "print(np.sum(q))\n",
        "\n",
        "# Mean\n",
        "print(np.mean(q))\n",
        "\n",
        "# Standard deviation\n",
        "print(np.std(q))\n",
        "\n",
        "# Minimum\n",
        "print(np.min(q))\n",
        "\n",
        "# Maximum\n",
        "print(np.max(q))\n",
        "\n",
        "# Sum along an axis\n",
        "print(np.sum(q, axis=0))  # Sum of columns\n",
        "print(np.sum(q, axis=1))  # Sum of rows"
      ],
      "metadata": {
        "colab": {
          "base_uri": "https://localhost:8080/"
        },
        "id": "HqBMh39IQfNn",
        "outputId": "890b72b8-4b99-44bf-e6de-b3c74a3a640a"
      },
      "execution_count": 23,
      "outputs": [
        {
          "output_type": "stream",
          "name": "stdout",
          "text": [
            "21\n",
            "3.5\n",
            "1.707825127659933\n",
            "1\n",
            "6\n",
            "[5 7 9]\n",
            "[ 6 15]\n"
          ]
        }
      ]
    },
    {
      "cell_type": "markdown",
      "source": [
        "## Random Numbers\n",
        "1. Generate random numbers:"
      ],
      "metadata": {
        "id": "L2uKuvFPQlGz"
      }
    },
    {
      "cell_type": "code",
      "source": [
        "# Random numbers from a uniform distribution over [0, 1)\n",
        "print(np.random.rand(5))\n",
        "\n",
        "# Random integers\n",
        "print(np.random.randint(1, 10, size=(2, 3)))\n",
        "\n",
        "# Random numbers from a standard normal distribution\n",
        "print(np.random.randn(4))"
      ],
      "metadata": {
        "colab": {
          "base_uri": "https://localhost:8080/"
        },
        "id": "gpC4wsCgQnlO",
        "outputId": "50f1b8f7-a0ef-4684-dfa4-d1f0aacd2d21"
      },
      "execution_count": 25,
      "outputs": [
        {
          "output_type": "stream",
          "name": "stdout",
          "text": [
            "[0.260485   0.81330948 0.72086838 0.07507517 0.92912268]\n",
            "[[7 1 3]\n",
            " [8 3 5]]\n",
            "[-0.04056768  0.91103081 -1.69593509  1.39944974]\n"
          ]
        }
      ]
    },
    {
      "cell_type": "markdown",
      "source": [
        "2. Seed for reproducibility:"
      ],
      "metadata": {
        "id": "hLOGyE1fQ3AG"
      }
    },
    {
      "cell_type": "code",
      "source": [
        "np.random.seed(42)\n",
        "print(np.random.rand(3))"
      ],
      "metadata": {
        "colab": {
          "base_uri": "https://localhost:8080/"
        },
        "id": "a7faUM2CQ1Y4",
        "outputId": "5faf713a-9466-4187-f1ed-81e573df682c"
      },
      "execution_count": 26,
      "outputs": [
        {
          "output_type": "stream",
          "name": "stdout",
          "text": [
            "[0.37454012 0.95071431 0.73199394]\n"
          ]
        }
      ]
    },
    {
      "cell_type": "markdown",
      "source": [
        "## Saving and Loading Arrays\n",
        "1. Save to a file:"
      ],
      "metadata": {
        "id": "fEIOgMk3Q4vv"
      }
    },
    {
      "cell_type": "code",
      "source": [
        "r = np.array([1, 2, 3])\n",
        "np.save('my_array.npy', r)"
      ],
      "metadata": {
        "id": "L3xRKeqXQ9D1"
      },
      "execution_count": 27,
      "outputs": []
    },
    {
      "cell_type": "markdown",
      "source": [
        "2. Load from a file:"
      ],
      "metadata": {
        "id": "TyEvTkQaRDlf"
      }
    },
    {
      "cell_type": "code",
      "source": [
        "s = np.load('my_array.npy')\n",
        "print(s)"
      ],
      "metadata": {
        "colab": {
          "base_uri": "https://localhost:8080/"
        },
        "id": "k4bCYawGRGCO",
        "outputId": "9f8d329b-7e10-46d0-d121-095c44eb7f1e"
      },
      "execution_count": 28,
      "outputs": [
        {
          "output_type": "stream",
          "name": "stdout",
          "text": [
            "[1 2 3]\n"
          ]
        }
      ]
    }
  ]
}