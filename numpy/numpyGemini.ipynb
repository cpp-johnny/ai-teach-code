{
  "nbformat": 4,
  "nbformat_minor": 0,
  "metadata": {
    "colab": {
      "provenance": []
    },
    "kernelspec": {
      "name": "python3",
      "display_name": "Python 3"
    },
    "language_info": {
      "name": "python"
    }
  },
  "cells": [
    {
      "cell_type": "markdown",
      "source": [
        "# Numpy Tutorial from Gemini (1.5)\n",
        "\n",
        "prompt: give a tutorial on Numpy"
      ],
      "metadata": {
        "id": "v-KFnJH-Nht8"
      }
    },
    {
      "cell_type": "markdown",
      "source": [
        "NumPy, short for Numerical Python, is a fundamental library for scientific computing in Python. It provides powerful tools for working with multi-dimensional arrays and matrices. Here's a basic tutorial to get you started with NumPy:"
      ],
      "metadata": {
        "id": "s6XLNAG7SMsn"
      }
    },
    {
      "cell_type": "markdown",
      "source": [
        "## 1. Installation:\n",
        "\n",
        "NumPy is usually included in the scientific Python distribution anaconda. If you don't have it, you can install it using pip:"
      ],
      "metadata": {
        "id": "4_zgy35XSOnt"
      }
    },
    {
      "cell_type": "code",
      "source": [
        "pip install numpy"
      ],
      "metadata": {
        "colab": {
          "base_uri": "https://localhost:8080/"
        },
        "id": "f7G32HmqSUCT",
        "outputId": "f84ecb1a-ceef-42ee-ca59-f9c92c600471"
      },
      "execution_count": 1,
      "outputs": [
        {
          "output_type": "stream",
          "name": "stdout",
          "text": [
            "Requirement already satisfied: numpy in /usr/local/lib/python3.10/dist-packages (1.25.2)\n"
          ]
        }
      ]
    },
    {
      "cell_type": "markdown",
      "source": [
        "## 2. Importing NumPy:\n",
        "\n",
        "Import NumPy using the following line in your Python script:"
      ],
      "metadata": {
        "id": "k8BccUgBSXf9"
      }
    },
    {
      "cell_type": "code",
      "source": [
        "import numpy as np"
      ],
      "metadata": {
        "id": "QpLmOn1lSZci"
      },
      "execution_count": 2,
      "outputs": []
    },
    {
      "cell_type": "markdown",
      "source": [
        "## 3. Creating Arrays:\n",
        "\n",
        "There are several ways to create NumPy arrays. Here are a few common methods:\n",
        "\n",
        "- From a list:"
      ],
      "metadata": {
        "id": "g3L1zXWRSeN0"
      }
    },
    {
      "cell_type": "code",
      "source": [
        "data = [1, 2, 3, 4, 5]\n",
        "arr = np.array(data)\n",
        "print(arr)  # Output: [1 2 3 4 5]"
      ],
      "metadata": {
        "colab": {
          "base_uri": "https://localhost:8080/"
        },
        "id": "90H3mgSHSjpU",
        "outputId": "6d214acd-1432-4ed4-8ce6-62303c214e35"
      },
      "execution_count": 3,
      "outputs": [
        {
          "output_type": "stream",
          "name": "stdout",
          "text": [
            "[1 2 3 4 5]\n"
          ]
        }
      ]
    },
    {
      "cell_type": "markdown",
      "source": [
        "- Using built-in functions:\n",
        "\n",
        "- np.zeros(shape): Creates an array filled with zeros.\n",
        "\n",
        "- np.ones(shape): Creates an array filled with ones.\n",
        "\n",
        "- np.empty(shape): Creates an uninitialized array (faster than zeros)."
      ],
      "metadata": {
        "id": "g27HyAt_SuH0"
      }
    },
    {
      "cell_type": "code",
      "source": [
        "zeros_arr = np.zeros(5)  # Create an array of 5 zeros\n",
        "print(zeros_arr)  # Output: [0. 0. 0. 0. 0.]\n",
        "\n",
        "ones_arr = np.ones((3, 2))  # Create a 3x2 array of ones\n",
        "print(ones_arr)  # Output: [[1. 1.]\n",
        "                   #        [1. 1.]\n",
        "                   #        [1. 1.]]"
      ],
      "metadata": {
        "colab": {
          "base_uri": "https://localhost:8080/"
        },
        "id": "IDzNiTAZS2t8",
        "outputId": "a00e3771-b900-4da5-d31d-95f9213e767d"
      },
      "execution_count": 4,
      "outputs": [
        {
          "output_type": "stream",
          "name": "stdout",
          "text": [
            "[0. 0. 0. 0. 0.]\n",
            "[[1. 1.]\n",
            " [1. 1.]\n",
            " [1. 1.]]\n"
          ]
        }
      ]
    },
    {
      "cell_type": "markdown",
      "source": [
        "- Using np.arange and np.linspace:\n",
        "\n",
        "- np.arange(start, stop, step): Creates an array with evenly spaced values within a given interval.\n",
        "\n",
        "- np.linspace(start, stop, num): Creates an array with a specified number of evenly spaced values over a specified interval."
      ],
      "metadata": {
        "id": "3CXS1vMYS-LD"
      }
    },
    {
      "cell_type": "code",
      "source": [
        "arr = np.arange(10)  # Create an array from 0 to 9\n",
        "print(arr)  # Output: [0 1 2 3 4 5 6 7 8 9]\n",
        "\n",
        "arr = np.linspace(0, 1, 5)  # Create 5 evenly spaced values from 0 to 1\n",
        "print(arr)  # Output: [0.         0.25       0.5        0.75       1.        ]"
      ],
      "metadata": {
        "colab": {
          "base_uri": "https://localhost:8080/"
        },
        "id": "ZL3Wm97STDvd",
        "outputId": "a7e276c2-563d-4993-834d-2de02194977d"
      },
      "execution_count": 5,
      "outputs": [
        {
          "output_type": "stream",
          "name": "stdout",
          "text": [
            "[0 1 2 3 4 5 6 7 8 9]\n",
            "[0.   0.25 0.5  0.75 1.  ]\n"
          ]
        }
      ]
    },
    {
      "cell_type": "markdown",
      "source": [
        "## 4. Array Properties:\n",
        "\n",
        "- Shape: The number of dimensions and elements in the array. Use arr.shape to access the shape."
      ],
      "metadata": {
        "id": "K5dhicaPTMv8"
      }
    },
    {
      "cell_type": "code",
      "source": [
        "arr = np.arange(12).reshape(3, 4)  # Reshape the array to 3x4\n",
        "print(arr.shape)  # Output: (3, 4)"
      ],
      "metadata": {
        "colab": {
          "base_uri": "https://localhost:8080/"
        },
        "id": "q-l_fyBYTRhr",
        "outputId": "db2150b6-ebc8-49cb-c959-8028d46a94f7"
      },
      "execution_count": 6,
      "outputs": [
        {
          "output_type": "stream",
          "name": "stdout",
          "text": [
            "(3, 4)\n"
          ]
        }
      ]
    },
    {
      "cell_type": "markdown",
      "source": [
        "- Data type: The data type of elements in the array. Use arr.dtype to access the data type."
      ],
      "metadata": {
        "id": "bc6BrpxITTXz"
      }
    },
    {
      "cell_type": "markdown",
      "source": [
        "# 5. Basic Operations:\n",
        "\n",
        "- Arithmetic operations: Addition, subtraction, multiplication, division, etc., work element-wise on arrays of the same shape."
      ],
      "metadata": {
        "id": "h-VGSTCaTUd6"
      }
    },
    {
      "cell_type": "code",
      "source": [
        "arr1 = np.array([1, 2, 3])\n",
        "arr2 = np.array([4, 5, 6])\n",
        "print(arr1 + arr2)  # Output: [5 7 9]"
      ],
      "metadata": {
        "colab": {
          "base_uri": "https://localhost:8080/"
        },
        "id": "au6hXqeRTXbD",
        "outputId": "9c62463b-fbcb-4eb0-a147-439ac6f564e9"
      },
      "execution_count": 8,
      "outputs": [
        {
          "output_type": "stream",
          "name": "stdout",
          "text": [
            "[5 7 9]\n"
          ]
        }
      ]
    },
    {
      "cell_type": "markdown",
      "source": [
        "- Universal functions: NumPy provides various mathematical functions that operate on arrays element-wise. Examples include np.sin, np.cos, np.exp, etc."
      ],
      "metadata": {
        "id": "xTm7KqywTcii"
      }
    },
    {
      "cell_type": "code",
      "source": [
        "arr = np.array([0, 1, 2])\n",
        "print(np.sin(arr))  # Output: [0.          0.84147098  0.90929743]"
      ],
      "metadata": {
        "colab": {
          "base_uri": "https://localhost:8080/"
        },
        "id": "qhFH7c4-TdY6",
        "outputId": "c3739698-8e19-4db2-ca3b-9425c00683fe"
      },
      "execution_count": 7,
      "outputs": [
        {
          "output_type": "stream",
          "name": "stdout",
          "text": [
            "[0.         0.84147098 0.90929743]\n"
          ]
        }
      ]
    },
    {
      "cell_type": "markdown",
      "source": [
        "# 6. Indexing and Slicing:\n",
        "\n",
        "Similar to Python lists, NumPy supports indexing and slicing to access specific elements or sub-arrays."
      ],
      "metadata": {
        "id": "cVYoOf7TTf7r"
      }
    },
    {
      "cell_type": "code",
      "source": [
        "arr = np.arange(10)\n",
        "print(arr[2])  # Output: 2 (accesses the third element)\n",
        "print(arr[1:4])  # Output: [1 2 3] (slice from index 1 to 4)"
      ],
      "metadata": {
        "colab": {
          "base_uri": "https://localhost:8080/"
        },
        "id": "BJP6Y2eRTiuD",
        "outputId": "a4385ca0-ec9b-4a1c-fedf-7688940958fd"
      },
      "execution_count": 9,
      "outputs": [
        {
          "output_type": "stream",
          "name": "stdout",
          "text": [
            "2\n",
            "[1 2 3]\n"
          ]
        }
      ]
    }
  ]
}